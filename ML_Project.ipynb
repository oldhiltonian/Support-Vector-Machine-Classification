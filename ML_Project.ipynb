{
 "cells": [
  {
   "cell_type": "markdown",
   "id": "687727f1",
   "metadata": {},
   "source": [
    "We import a dataset containing data of mouse protein expression levels. There are three additional categorical variables that we can predict.\n",
    "- Genotype: Downs Syndrome vs control\n",
    "- Treatment: Memantine vs Saline\n",
    "- Behaviour: Stimulated vs Non-Stimulated\n",
    "\n",
    "There are numerous questions that can be investigated using this dataset.\n",
    "1. Can protein expression be used as predictors for genotype?\n",
    "2. Can protein expression be used as predictors for behaviour?\n",
    "3. Can genotype be used as a proxy for behaviour?\n",
    "4. Can protein expression be used to predict treatment? (The answer should be NO as the mice should have been randomly assigned to treatment groups!)"
   ]
  },
  {
   "cell_type": "code",
   "execution_count": 107,
   "id": "4867a84e",
   "metadata": {},
   "outputs": [],
   "source": [
    "import numpy as np\n",
    "import pandas as pd\n",
    "from sklearn.model_selection import train_test_split\n",
    "from sklearn.svm import SVC\n",
    "from matplotlib import pyplot as plt\n",
    "from sklearn.linear_model import LogisticRegression"
   ]
  },
  {
   "cell_type": "code",
   "execution_count": 75,
   "id": "ab69e2b3",
   "metadata": {},
   "outputs": [],
   "source": [
    "df = pd.read_csv('data.csv').dropna()"
   ]
  },
  {
   "cell_type": "code",
   "execution_count": 76,
   "id": "5e91afe6",
   "metadata": {},
   "outputs": [
    {
     "data": {
      "text/plain": [
       "Index(['MouseID', 'DYRK1A_N', 'ITSN1_N', 'BDNF_N', 'NR1_N', 'NR2A_N', 'pAKT_N',\n",
       "       'pBRAF_N', 'pCAMKII_N', 'pCREB_N', 'pELK_N', 'pERK_N', 'pJNK_N',\n",
       "       'PKCA_N', 'pMEK_N', 'pNR1_N', 'pNR2A_N', 'pNR2B_N', 'pPKCAB_N',\n",
       "       'pRSK_N', 'AKT_N', 'BRAF_N', 'CAMKII_N', 'CREB_N', 'ELK_N', 'ERK_N',\n",
       "       'GSK3B_N', 'JNK_N', 'MEK_N', 'TRKA_N', 'RSK_N', 'APP_N', 'Bcatenin_N',\n",
       "       'SOD1_N', 'MTOR_N', 'P38_N', 'pMTOR_N', 'DSCR1_N', 'AMPKA_N', 'NR2B_N',\n",
       "       'pNUMB_N', 'RAPTOR_N', 'TIAM1_N', 'pP70S6_N', 'NUMB_N', 'P70S6_N',\n",
       "       'pGSK3B_N', 'pPKCG_N', 'CDK5_N', 'S6_N', 'ADARB1_N', 'AcetylH3K9_N',\n",
       "       'RRP1_N', 'BAX_N', 'ARC_N', 'ERBB4_N', 'nNOS_N', 'Tau_N', 'GFAP_N',\n",
       "       'GluR3_N', 'GluR4_N', 'IL1B_N', 'P3525_N', 'pCASP9_N', 'PSD95_N',\n",
       "       'SNCA_N', 'Ubiquitin_N', 'pGSK3B_Tyr216_N', 'SHH_N', 'BAD_N', 'BCL2_N',\n",
       "       'pS6_N', 'pCFOS_N', 'SYP_N', 'H3AcK18_N', 'EGR1_N', 'H3MeK4_N',\n",
       "       'CaNA_N', 'Genotype', 'Treatment', 'Behavior', 'class'],\n",
       "      dtype='object')"
      ]
     },
     "execution_count": 76,
     "metadata": {},
     "output_type": "execute_result"
    }
   ],
   "source": [
    "df.columns"
   ]
  },
  {
   "cell_type": "code",
   "execution_count": 77,
   "id": "0d21d248",
   "metadata": {},
   "outputs": [],
   "source": [
    "df = df.drop(['MouseID'], axis = 1)"
   ]
  },
  {
   "cell_type": "code",
   "execution_count": 78,
   "id": "cfe985ef",
   "metadata": {},
   "outputs": [],
   "source": [
    "df['Behavior'] = df['Behavior'].apply(lambda x: 'Stimulated' if x=='C/S' else 'Not stimulated')"
   ]
  },
  {
   "cell_type": "code",
   "execution_count": 79,
   "id": "a365cd46",
   "metadata": {},
   "outputs": [],
   "source": [
    "df['class'] = df['class'].apply(lambda x: 'Control' if x[0]=='c' else 'Downs')"
   ]
  },
  {
   "cell_type": "code",
   "execution_count": 80,
   "id": "984aacd5",
   "metadata": {},
   "outputs": [
    {
     "data": {
      "text/plain": [
       "75          Stimulated\n",
       "76          Stimulated\n",
       "77          Stimulated\n",
       "78          Stimulated\n",
       "79          Stimulated\n",
       "             ...      \n",
       "1045    Not stimulated\n",
       "1046    Not stimulated\n",
       "1047    Not stimulated\n",
       "1048    Not stimulated\n",
       "1049    Not stimulated\n",
       "Name: Behavior, Length: 552, dtype: object"
      ]
     },
     "execution_count": 80,
     "metadata": {},
     "output_type": "execute_result"
    }
   ],
   "source": [
    "df['Behavior']"
   ]
  },
  {
   "cell_type": "code",
   "execution_count": 81,
   "id": "41b37506",
   "metadata": {},
   "outputs": [
    {
     "data": {
      "text/plain": [
       "75      Control\n",
       "76      Control\n",
       "77      Control\n",
       "78      Control\n",
       "79      Control\n",
       "         ...   \n",
       "1045      Downs\n",
       "1046      Downs\n",
       "1047      Downs\n",
       "1048      Downs\n",
       "1049      Downs\n",
       "Name: class, Length: 552, dtype: object"
      ]
     },
     "execution_count": 81,
     "metadata": {},
     "output_type": "execute_result"
    }
   ],
   "source": [
    "df['class']"
   ]
  },
  {
   "cell_type": "code",
   "execution_count": 82,
   "id": "84bea9dd",
   "metadata": {},
   "outputs": [],
   "source": [
    "df_control = df[df['class'] == 'Control']\n",
    "df_downs = df[df['class'] == 'Downs']"
   ]
  },
  {
   "cell_type": "markdown",
   "id": "2091e073",
   "metadata": {},
   "source": [
    "# 1: Can Protein Expression be used as a Predictor of Genotype\n",
    "\n",
    "Using the entire dataset"
   ]
  },
  {
   "cell_type": "code",
   "execution_count": 99,
   "id": "72642c43",
   "metadata": {},
   "outputs": [],
   "source": [
    "X = df.drop(['Genotype', 'Treatment', 'Behavior', 'class'], axis=1)\n",
    "y = df['Genotype']"
   ]
  },
  {
   "cell_type": "code",
   "execution_count": 100,
   "id": "8d725f74",
   "metadata": {},
   "outputs": [],
   "source": [
    "X_train, X_test, y_train, y_test = train_test_split(X, y, random_state=5)"
   ]
  },
  {
   "cell_type": "code",
   "execution_count": 101,
   "id": "4b207a59",
   "metadata": {},
   "outputs": [],
   "source": [
    "clf1 = SVC().fit(X_train, y_train)"
   ]
  },
  {
   "cell_type": "code",
   "execution_count": 102,
   "id": "266b3198",
   "metadata": {},
   "outputs": [
    {
     "name": "stdout",
     "output_type": "stream",
     "text": [
      "Train score is 0.819\n",
      "Test score is 0.841\n"
     ]
    }
   ],
   "source": [
    "train_score = clf1.score(X_train, y_train)\n",
    "test_score = clf1.score(X_test, y_test)\n",
    "\n",
    "print(f\"Train score is {round(train_score,3)}\")\n",
    "print(f\"Test score is {round(test_score,3)}\")"
   ]
  },
  {
   "cell_type": "markdown",
   "id": "a85a46e4",
   "metadata": {},
   "source": [
    "So yes, it seems that protein expression can be a strong predictor for genotype. \n",
    "The above took all proteins into account. This makes the dataset large and could be improved upon via the selective choice of only those proteins that showed correation to the genotype. "
   ]
  },
  {
   "cell_type": "markdown",
   "id": "79e20c69",
   "metadata": {},
   "source": [
    "# 2: Can protein expression be used as a predictor for behaviour?"
   ]
  },
  {
   "cell_type": "code",
   "execution_count": 116,
   "id": "ac47a974",
   "metadata": {},
   "outputs": [],
   "source": [
    "X = df.drop(['Genotype', 'Treatment', 'Behavior', 'class'], axis=1)\n",
    "y = df['Behavior']"
   ]
  },
  {
   "cell_type": "code",
   "execution_count": 117,
   "id": "cd656bae",
   "metadata": {},
   "outputs": [],
   "source": [
    "X_train, X_test, y_train, y_test = train_test_split(X, y, random_state=5)"
   ]
  },
  {
   "cell_type": "code",
   "execution_count": 119,
   "id": "10ba7e25",
   "metadata": {},
   "outputs": [
    {
     "name": "stdout",
     "output_type": "stream",
     "text": [
      "Train score is 0.9951690821\n",
      "Test score is 1.0\n"
     ]
    }
   ],
   "source": [
    "clf2 = SVC().fit(X_train, y_train)\n",
    "train_score = clf2.score(X_train, y_train)\n",
    "test_score = clf2.score(X_test, y_test)\n",
    "\n",
    "print(f\"Train score is {round(train_score,10)}\")\n",
    "print(f\"Test score is {round(test_score,10)}\")"
   ]
  },
  {
   "cell_type": "markdown",
   "id": "79995a9c",
   "metadata": {},
   "source": [
    "# 3. Can genotype be used as a proxy for behavior?"
   ]
  },
  {
   "cell_type": "code",
   "execution_count": 123,
   "id": "0b51e938",
   "metadata": {},
   "outputs": [],
   "source": [
    "X = pd.get_dummies(df['Genotype'])\n",
    "y = df['Behavior']\n",
    "\n",
    "X_train, X_test, y_train, y_test = train_test_split(X, y, random_state=5)"
   ]
  },
  {
   "cell_type": "code",
   "execution_count": 124,
   "id": "8c98071d",
   "metadata": {},
   "outputs": [
    {
     "name": "stdout",
     "output_type": "stream",
     "text": [
      "Train score is 0.5289855072\n",
      "Test score is 0.5869565217\n"
     ]
    }
   ],
   "source": [
    "clf3 = LogisticRegression().fit(X_train, y_train)\n",
    "train_score = clf3.score(X_train, y_train)\n",
    "test_score = clf3.score(X_test, y_test)\n",
    "\n",
    "print(f\"Train score is {round(train_score,10)}\")\n",
    "print(f\"Test score is {round(test_score,10)}\")"
   ]
  },
  {
   "cell_type": "markdown",
   "id": "13a6b0d9",
   "metadata": {},
   "source": [
    "# 4. Can protein expression be used to predict treatment?"
   ]
  },
  {
   "cell_type": "code",
   "execution_count": 125,
   "id": "3ce9f66c",
   "metadata": {},
   "outputs": [
    {
     "name": "stdout",
     "output_type": "stream",
     "text": [
      "Train score is 0.8285024155\n",
      "Test score is 0.847826087\n"
     ]
    }
   ],
   "source": [
    "X = df.drop(['Genotype', 'Treatment', 'Behavior', 'class'], axis=1)\n",
    "y = df['Treatment']\n",
    "\n",
    "X_train, X_test, y_train, y_test = train_test_split(X, y, random_state=5)\n",
    "clf4 = SVC().fit(X_train, y_train)\n",
    "train_score = clf4.score(X_train, y_train)\n",
    "test_score = clf4.score(X_test, y_test)\n",
    "\n",
    "print(f\"Train score is {round(train_score,10)}\")\n",
    "print(f\"Test score is {round(test_score,10)}\")"
   ]
  },
  {
   "cell_type": "markdown",
   "id": "5e1f74b3",
   "metadata": {},
   "source": [
    "# Cycle back to clf1 and see if you can improve on the performance. Try:\n",
    " - Look for proteins with strong corelations and use only those.\n",
    " - Cross validation and plotting of performance. \n",
    " - Try different split sizes"
   ]
  },
  {
   "cell_type": "code",
   "execution_count": null,
   "id": "f8352dda",
   "metadata": {},
   "outputs": [],
   "source": []
  }
 ],
 "metadata": {
  "kernelspec": {
   "display_name": "Python 3 (ipykernel)",
   "language": "python",
   "name": "python3"
  },
  "language_info": {
   "codemirror_mode": {
    "name": "ipython",
    "version": 3
   },
   "file_extension": ".py",
   "mimetype": "text/x-python",
   "name": "python",
   "nbconvert_exporter": "python",
   "pygments_lexer": "ipython3",
   "version": "3.9.12"
  }
 },
 "nbformat": 4,
 "nbformat_minor": 5
}

{
 "cells": [
  {
   "cell_type": "markdown",
   "id": "687727f1",
   "metadata": {},
   "source": [
    "# Introduction\n",
    "The dataset can be found from Kaggle at [this link](https://www.kaggle.com/datasets/ruslankl/mice-protein-expression).\n",
    "\n",
    "We import the dataset containing data of mouse protein expression levels. These are numeric (float) variables that hold protein concentrations in the mouse cells. There are three additional categorical variables:\n",
    "- Genotype: Downs Syndrome vs control\n",
    "- Treatment: Memantine vs Saline\n",
    "- Behaviour: Stimulated vs Non-Stimulated\n",
    "\n",
    "There are numerous questions that can be investigated using this dataset.\n",
    "1. Can protein expression be used as predictors for genotype?\n",
    "2. Can protein expression be used as predictors for behaviour?\n",
    "3. Can genotype be used as a proxy for behaviour?\n",
    "4. Can protein expression be used to predict treatment? (The answer should be NO as the mice should have been randomly assigned to treatment groups!)\n",
    "\n",
    "Once the above 4 Cases have been briefly explored, I will focus then onto Case 1 and optimize the hyperparameters for the model."
   ]
  },
  {
   "cell_type": "code",
   "execution_count": 37,
   "id": "4867a84e",
   "metadata": {},
   "outputs": [],
   "source": [
    "import numpy as np\n",
    "import pandas as pd\n",
    "from sklearn.model_selection import train_test_split\n",
    "from sklearn.svm import SVC\n",
    "from matplotlib import pyplot as plt\n",
    "from sklearn.linear_model import LogisticRegression"
   ]
  },
  {
   "cell_type": "code",
   "execution_count": 38,
   "id": "ab69e2b3",
   "metadata": {},
   "outputs": [],
   "source": [
    "'''Importing the dataset and dropping instances with null values'''\n",
    "df = pd.read_csv('data.csv').dropna()"
   ]
  },
  {
   "cell_type": "code",
   "execution_count": 39,
   "id": "5e91afe6",
   "metadata": {},
   "outputs": [
    {
     "data": {
      "text/plain": [
       "Index(['MouseID', 'DYRK1A_N', 'ITSN1_N', 'BDNF_N', 'NR1_N', 'NR2A_N', 'pAKT_N',\n",
       "       'pBRAF_N', 'pCAMKII_N', 'pCREB_N', 'pELK_N', 'pERK_N', 'pJNK_N',\n",
       "       'PKCA_N', 'pMEK_N', 'pNR1_N', 'pNR2A_N', 'pNR2B_N', 'pPKCAB_N',\n",
       "       'pRSK_N', 'AKT_N', 'BRAF_N', 'CAMKII_N', 'CREB_N', 'ELK_N', 'ERK_N',\n",
       "       'GSK3B_N', 'JNK_N', 'MEK_N', 'TRKA_N', 'RSK_N', 'APP_N', 'Bcatenin_N',\n",
       "       'SOD1_N', 'MTOR_N', 'P38_N', 'pMTOR_N', 'DSCR1_N', 'AMPKA_N', 'NR2B_N',\n",
       "       'pNUMB_N', 'RAPTOR_N', 'TIAM1_N', 'pP70S6_N', 'NUMB_N', 'P70S6_N',\n",
       "       'pGSK3B_N', 'pPKCG_N', 'CDK5_N', 'S6_N', 'ADARB1_N', 'AcetylH3K9_N',\n",
       "       'RRP1_N', 'BAX_N', 'ARC_N', 'ERBB4_N', 'nNOS_N', 'Tau_N', 'GFAP_N',\n",
       "       'GluR3_N', 'GluR4_N', 'IL1B_N', 'P3525_N', 'pCASP9_N', 'PSD95_N',\n",
       "       'SNCA_N', 'Ubiquitin_N', 'pGSK3B_Tyr216_N', 'SHH_N', 'BAD_N', 'BCL2_N',\n",
       "       'pS6_N', 'pCFOS_N', 'SYP_N', 'H3AcK18_N', 'EGR1_N', 'H3MeK4_N',\n",
       "       'CaNA_N', 'Genotype', 'Treatment', 'Behavior', 'class'],\n",
       "      dtype='object')"
      ]
     },
     "execution_count": 39,
     "metadata": {},
     "output_type": "execute_result"
    }
   ],
   "source": [
    "'''Inspcting columns'''\n",
    "df.columns"
   ]
  },
  {
   "cell_type": "code",
   "execution_count": 40,
   "id": "0d21d248",
   "metadata": {},
   "outputs": [],
   "source": [
    "'''Dropping mouse ID as it is not useful'''\n",
    "df = df.drop(['MouseID'], axis = 1)"
   ]
  },
  {
   "cell_type": "code",
   "execution_count": 41,
   "id": "cfe985ef",
   "metadata": {},
   "outputs": [],
   "source": [
    "'''Changing the Behaviour labels to something more readable'''\n",
    "df['Behavior'] = df['Behavior'].apply(lambda x: 'Stimulated' if x=='C/S' else 'Not stimulated')"
   ]
  },
  {
   "cell_type": "code",
   "execution_count": 42,
   "id": "a365cd46",
   "metadata": {},
   "outputs": [],
   "source": [
    "'''Changing the class label to something more readable'''\n",
    "df['class'] = df['class'].apply(lambda x: 'Control' if x[0]=='c' else 'Downs')"
   ]
  },
  {
   "cell_type": "code",
   "execution_count": 43,
   "id": "984aacd5",
   "metadata": {},
   "outputs": [
    {
     "data": {
      "text/plain": [
       "75          Stimulated\n",
       "76          Stimulated\n",
       "77          Stimulated\n",
       "78          Stimulated\n",
       "79          Stimulated\n",
       "             ...      \n",
       "1045    Not stimulated\n",
       "1046    Not stimulated\n",
       "1047    Not stimulated\n",
       "1048    Not stimulated\n",
       "1049    Not stimulated\n",
       "Name: Behavior, Length: 552, dtype: object"
      ]
     },
     "execution_count": 43,
     "metadata": {},
     "output_type": "execute_result"
    }
   ],
   "source": [
    "df['Behavior']"
   ]
  },
  {
   "cell_type": "code",
   "execution_count": 44,
   "id": "41b37506",
   "metadata": {},
   "outputs": [
    {
     "data": {
      "text/plain": [
       "75      Control\n",
       "76      Control\n",
       "77      Control\n",
       "78      Control\n",
       "79      Control\n",
       "         ...   \n",
       "1045      Downs\n",
       "1046      Downs\n",
       "1047      Downs\n",
       "1048      Downs\n",
       "1049      Downs\n",
       "Name: class, Length: 552, dtype: object"
      ]
     },
     "execution_count": 44,
     "metadata": {},
     "output_type": "execute_result"
    }
   ],
   "source": [
    "df['class']"
   ]
  },
  {
   "cell_type": "code",
   "execution_count": 45,
   "id": "84bea9dd",
   "metadata": {},
   "outputs": [],
   "source": [
    "df_control = df[df['class'] == 'Control']\n",
    "df_downs = df[df['class'] == 'Downs']"
   ]
  },
  {
   "cell_type": "markdown",
   "id": "04956bb4",
   "metadata": {},
   "source": [
    "# Model Selection\n",
    "There are numerous things to consuider in model selection. The first is the fact that this is a classification problem, so our models must be chosen accordingly. The inputs to the model are all numeric (float) values. The key factor in model choice for this application is the high dimensionality of the dataset. There are roughly 70 proteins that are present in the dataset. I believe that the ideal model choice for this application is the Support Vector MAchine, due to their favorable performance in high dimensions."
   ]
  },
  {
   "cell_type": "markdown",
   "id": "2091e073",
   "metadata": {},
   "source": [
    "# 1: Can Protein Expression be used as a Predictor of Genotype\n",
    "\n",
    "Using the entire dataset"
   ]
  },
  {
   "cell_type": "code",
   "execution_count": 46,
   "id": "72642c43",
   "metadata": {},
   "outputs": [],
   "source": [
    "X = df.drop(['Genotype', 'Treatment', 'Behavior', 'class'], axis=1)\n",
    "y = df['Genotype']"
   ]
  },
  {
   "cell_type": "code",
   "execution_count": 47,
   "id": "8d725f74",
   "metadata": {},
   "outputs": [],
   "source": [
    "X_train, X_test, y_train, y_test = train_test_split(X, y, random_state=5)"
   ]
  },
  {
   "cell_type": "code",
   "execution_count": 48,
   "id": "4b207a59",
   "metadata": {},
   "outputs": [],
   "source": [
    "clf1 = SVC().fit(X_train, y_train)"
   ]
  },
  {
   "cell_type": "code",
   "execution_count": 49,
   "id": "266b3198",
   "metadata": {},
   "outputs": [
    {
     "name": "stdout",
     "output_type": "stream",
     "text": [
      "Train score is 0.819\n",
      "Test score is 0.841\n"
     ]
    }
   ],
   "source": [
    "train_score = clf1.score(X_train, y_train)\n",
    "test_score = clf1.score(X_test, y_test)\n",
    "\n",
    "print(f\"Train score is {round(train_score,3)}\")\n",
    "print(f\"Test score is {round(test_score,3)}\")"
   ]
  },
  {
   "cell_type": "markdown",
   "id": "a85a46e4",
   "metadata": {},
   "source": [
    "So yes, it seems that protein expression can be a strong predictor for genotype. \n",
    "The above took all proteins into account. This makes the dataset large and could be improved upon via the selective choice of only those proteins that showed correation to the genotype. "
   ]
  },
  {
   "cell_type": "markdown",
   "id": "79e20c69",
   "metadata": {},
   "source": [
    "# 2: Can protein expression be used as a predictor for behaviour?"
   ]
  },
  {
   "cell_type": "code",
   "execution_count": 50,
   "id": "ac47a974",
   "metadata": {},
   "outputs": [],
   "source": [
    "X = df.drop(['Genotype', 'Treatment', 'Behavior', 'class'], axis=1)\n",
    "y = df['Behavior']"
   ]
  },
  {
   "cell_type": "code",
   "execution_count": 51,
   "id": "cd656bae",
   "metadata": {},
   "outputs": [],
   "source": [
    "X_train, X_test, y_train, y_test = train_test_split(X, y, random_state=5)"
   ]
  },
  {
   "cell_type": "code",
   "execution_count": 52,
   "id": "10ba7e25",
   "metadata": {},
   "outputs": [
    {
     "name": "stdout",
     "output_type": "stream",
     "text": [
      "Train score is 0.9951690821\n",
      "Test score is 1.0\n"
     ]
    }
   ],
   "source": [
    "clf2 = SVC().fit(X_train, y_train)\n",
    "train_score = clf2.score(X_train, y_train)\n",
    "test_score = clf2.score(X_test, y_test)\n",
    "\n",
    "print(f\"Train score is {round(train_score,10)}\")\n",
    "print(f\"Test score is {round(test_score,10)}\")"
   ]
  },
  {
   "cell_type": "markdown",
   "id": "9a2015cd",
   "metadata": {},
   "source": [
    "We can conclude that protein expression levels can be a very good predictor for mouse behaviour"
   ]
  },
  {
   "cell_type": "markdown",
   "id": "79995a9c",
   "metadata": {},
   "source": [
    "# 3. Can genotype be used as a proxy for behavior?"
   ]
  },
  {
   "cell_type": "code",
   "execution_count": 53,
   "id": "0b51e938",
   "metadata": {},
   "outputs": [],
   "source": [
    "X = pd.get_dummies(df['Genotype'])\n",
    "y = df['Behavior']\n",
    "\n",
    "X_train, X_test, y_train, y_test = train_test_split(X, y, random_state=5)"
   ]
  },
  {
   "cell_type": "code",
   "execution_count": 54,
   "id": "8c98071d",
   "metadata": {},
   "outputs": [
    {
     "name": "stdout",
     "output_type": "stream",
     "text": [
      "Train score is 0.5289855072\n",
      "Test score is 0.5869565217\n"
     ]
    }
   ],
   "source": [
    "clf3 = LogisticRegression().fit(X_train, y_train)\n",
    "train_score = clf3.score(X_train, y_train)\n",
    "test_score = clf3.score(X_test, y_test)\n",
    "\n",
    "print(f\"Train score is {round(train_score,10)}\")\n",
    "print(f\"Test score is {round(test_score,10)}\")"
   ]
  },
  {
   "cell_type": "markdown",
   "id": "66b3330d",
   "metadata": {},
   "source": [
    "We can conclude that there is some relationship between genotype and behaviour, but it is not very strong. "
   ]
  },
  {
   "cell_type": "markdown",
   "id": "13a6b0d9",
   "metadata": {},
   "source": [
    "# 4. Can protein expression be used to predict treatment?"
   ]
  },
  {
   "cell_type": "code",
   "execution_count": 55,
   "id": "3ce9f66c",
   "metadata": {},
   "outputs": [
    {
     "name": "stdout",
     "output_type": "stream",
     "text": [
      "Train score is 0.8285024155\n",
      "Test score is 0.847826087\n"
     ]
    }
   ],
   "source": [
    "X = df.drop(['Genotype', 'Treatment', 'Behavior', 'class'], axis=1)\n",
    "y = df['Treatment']\n",
    "\n",
    "X_train, X_test, y_train, y_test = train_test_split(X, y, random_state=5)\n",
    "clf4 = SVC().fit(X_train, y_train)\n",
    "train_score = clf4.score(X_train, y_train)\n",
    "test_score = clf4.score(X_test, y_test)\n",
    "\n",
    "print(f\"Train score is {round(train_score,10)}\")\n",
    "print(f\"Test score is {round(test_score,10)}\")"
   ]
  },
  {
   "cell_type": "markdown",
   "id": "76925cda",
   "metadata": {},
   "source": [
    "We see that we can actually use protein expression as a predictor for the type of treatment that was recieved by the mouse. This is not a good sign as it can indicate that the random assignment of the mice to treatment groups was not sufficient and may in fact have introduced massive bias into the study."
   ]
  },
  {
   "cell_type": "markdown",
   "id": "5e1f74b3",
   "metadata": {},
   "source": [
    "# Optimizing the Case 1 Hyperparameters\n",
    "We are again using protein expression to predict genotype, but this time we optimize the models\n"
   ]
  },
  {
   "cell_type": "code",
   "execution_count": 56,
   "id": "f8352dda",
   "metadata": {},
   "outputs": [],
   "source": [
    "X = df.drop(['Genotype', 'Treatment', 'Behavior', 'class'], axis=1)\n",
    "y = df['Genotype']\n",
    "X_train, X_test, y_train, y_test = train_test_split(X, y, random_state=5)\n",
    "C = np.linspace(0.01, 10, 100)\n",
    "kernels = ['rbf', 'linear', 'poly', 'sigmoid']\n",
    "results = dict(rbf=[], linear=[], poly=[], sigmoid=[])"
   ]
  },
  {
   "cell_type": "code",
   "execution_count": 57,
   "id": "7687caaa",
   "metadata": {},
   "outputs": [
    {
     "data": {
      "text/plain": [
       "<matplotlib.legend.Legend at 0x1a7b5657b80>"
      ]
     },
     "execution_count": 57,
     "metadata": {},
     "output_type": "execute_result"
    },
    {
     "data": {
      "image/png": "[encoded data removed]",
      "text/plain": [
       "<Figure size 432x288 with 1 Axes>"
      ]
     },
     "metadata": {
      "needs_background": "light"
     },
     "output_type": "display_data"
    }
   ],
   "source": [
    "for kernel in kernels:\n",
    "    for c in C:\n",
    "        clf = SVC(C=c, kernel=kernel).fit(X_train, y_train)\n",
    "        results[kernel].append(clf.score(X_test, y_test))\n",
    "    \n",
    "    plt.plot(C, results[kernel], label=kernel)\n",
    "\n",
    "plt.xlabel('Regularization Parameter (C)')\n",
    "plt.ylabel('Model Accuracy')\n",
    "plt.legend()"
   ]
  },
  {
   "cell_type": "markdown",
   "id": "aeb83e46",
   "metadata": {},
   "source": [
    "From the above graph we can clearly select the best combination of hyperparameters to optimize the model. We see that the sigmoid models perform poorly overall. The RBF models perfor much better but are still the 3rd worst overall. The polynomial and linear models were the top two models. We see that the linear model actually performs better than the polynomial across all values of C. We thus choose the linear model type as it is the simplest and we should aim to keep things simple where possible. \n",
    "\n",
    "Thus a linear SVC model with a regularization parameter of approximately 2 is the best performing model for this application. "
   ]
  },
  {
   "cell_type": "code",
   "execution_count": null,
   "id": "fcd773f9",
   "metadata": {},
   "outputs": [],
   "source": []
  }
 ],
 "metadata": {
  "kernelspec": {
   "display_name": "Python 3 (ipykernel)",
   "language": "python",
   "name": "python3"
  },
  "language_info": {
   "codemirror_mode": {
    "name": "ipython",
    "version": 3
   },
   "file_extension": ".py",
   "mimetype": "text/x-python",
   "name": "python",
   "nbconvert_exporter": "python",
   "pygments_lexer": "ipython3",
   "version": "3.9.12"
  }
 },
 "nbformat": 4,
 "nbformat_minor": 5
}
